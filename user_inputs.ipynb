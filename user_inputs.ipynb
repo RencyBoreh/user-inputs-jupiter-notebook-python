{
 "cells": [
  {
   "cell_type": "code",
   "execution_count": 1,
   "id": "7295445e-81b8-4243-b3b4-9999702c7e27",
   "metadata": {},
   "outputs": [
    {
     "name": "stdin",
     "output_type": "stream",
     "text": [
      "what is your name: Rency Boreh\n",
      "where do you study: Kirinyaga University\n",
      "which course do you take: Software Engineering\n",
      "what is your age 23\n"
     ]
    }
   ],
   "source": [
    "name=input(\"what is your name:\")\n",
    "school=input(\"where do you study:\")\n",
    "course=input(\"which course do you take:\")\n",
    "age=input(\"what is your age\")"
   ]
  },
  {
   "cell_type": "code",
   "execution_count": 3,
   "id": "091d03d9-b164-4170-b6e3-25b0ed9b7e8d",
   "metadata": {},
   "outputs": [
    {
     "name": "stdout",
     "output_type": "stream",
     "text": [
      "Hello Rency Boreh.You study at Kirinyaga University and you pursue Software Engineering.You are 23 years old!\n"
     ]
    }
   ],
   "source": [
    "print(f\"Hello {name}.You study at {school} and you pursue {course}.You are {age} years old!\")"
   ]
  },
  {
   "cell_type": "code",
   "execution_count": null,
   "id": "5fbe169a-feb8-433a-af39-0a7d4143a874",
   "metadata": {},
   "outputs": [],
   "source": []
  }
 ],
 "metadata": {
  "kernelspec": {
   "display_name": "Python 3 (ipykernel)",
   "language": "python",
   "name": "python3"
  },
  "language_info": {
   "codemirror_mode": {
    "name": "ipython",
    "version": 3
   },
   "file_extension": ".py",
   "mimetype": "text/x-python",
   "name": "python",
   "nbconvert_exporter": "python",
   "pygments_lexer": "ipython3",
   "version": "3.12.4"
  }
 },
 "nbformat": 4,
 "nbformat_minor": 5
}
